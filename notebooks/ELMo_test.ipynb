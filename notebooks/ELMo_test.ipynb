{
  "nbformat": 4,
  "nbformat_minor": 0,
  "metadata": {
    "colab": {
      "name": "ELMo_test.ipynb",
      "version": "0.3.2",
      "provenance": [],
      "include_colab_link": true
    },
    "kernelspec": {
      "name": "python3",
      "display_name": "Python 3"
    }
  },
  "cells": [
    {
      "cell_type": "markdown",
      "metadata": {
        "id": "view-in-github",
        "colab_type": "text"
      },
      "source": [
        "<a href=\"https://colab.research.google.com/github/goerlitz/nlp-playground/blob/master/notebooks/ELMo_test.ipynb\" target=\"_parent\"><img src=\"https://colab.research.google.com/assets/colab-badge.svg\" alt=\"Open In Colab\"/></a>"
      ]
    },
    {
      "cell_type": "markdown",
      "metadata": {
        "id": "l2IjI5ZDcUFo",
        "colab_type": "text"
      },
      "source": [
        "Basic code from https://tfhub.dev/google/elmo/2"
      ]
    },
    {
      "cell_type": "code",
      "metadata": {
        "id": "xJoVCyfGcjsh",
        "colab_type": "code",
        "colab": {}
      },
      "source": [
        "import tensorflow as tf\n",
        "import tensorflow_hub as hub"
      ],
      "execution_count": 0,
      "outputs": []
    },
    {
      "cell_type": "code",
      "metadata": {
        "id": "_blCisybb9hm",
        "colab_type": "code",
        "colab": {}
      },
      "source": [
        "elmo = hub.Module(\"https://tfhub.dev/google/elmo/2\", trainable=True)\n",
        "embeddings = elmo(\n",
        "    [\"the cat is on the mat\", \"dogs are in the fog\"],\n",
        "    signature=\"default\",\n",
        "    as_dict=True)[\"elmo\"]\n"
      ],
      "execution_count": 0,
      "outputs": []
    },
    {
      "cell_type": "code",
      "metadata": {
        "id": "B8l3ksrlcbjg",
        "colab_type": "code",
        "colab": {
          "base_uri": "https://localhost:8080/",
          "height": 34
        },
        "outputId": "6b7e01b2-9492-42aa-8837-c1e82cc622e7"
      },
      "source": [
        "embeddings.shape"
      ],
      "execution_count": 5,
      "outputs": [
        {
          "output_type": "execute_result",
          "data": {
            "text/plain": [
              "TensorShape([Dimension(2), Dimension(6), Dimension(1024)])"
            ]
          },
          "metadata": {
            "tags": []
          },
          "execution_count": 5
        }
      ]
    },
    {
      "cell_type": "code",
      "metadata": {
        "id": "HeWYxZ_Fcyqb",
        "colab_type": "code",
        "colab": {}
      },
      "source": [
        "tokens_input = [[\"the\", \"cat\", \"is\", \"on\", \"the\", \"mat\"],\n",
        "                [\"dogs\", \"are\", \"in\", \"the\", \"fog\", \"\"]]\n",
        "tokens_length = [6, 5]\n",
        "embeddings = elmo(\n",
        "    inputs={\n",
        "        \"tokens\": tokens_input,\n",
        "        \"sequence_len\": tokens_length\n",
        "    },\n",
        "    signature=\"tokens\",\n",
        "    as_dict=True)[\"elmo\"]\n"
      ],
      "execution_count": 0,
      "outputs": []
    },
    {
      "cell_type": "code",
      "metadata": {
        "id": "aKk5L0vNczbg",
        "colab_type": "code",
        "colab": {
          "base_uri": "https://localhost:8080/",
          "height": 34
        },
        "outputId": "9b2ae854-c34d-4138-c795-eb7f1d7cfa5f"
      },
      "source": [
        "embeddings.shape"
      ],
      "execution_count": 9,
      "outputs": [
        {
          "output_type": "execute_result",
          "data": {
            "text/plain": [
              "TensorShape([Dimension(2), Dimension(6), Dimension(1024)])"
            ]
          },
          "metadata": {
            "tags": []
          },
          "execution_count": 9
        }
      ]
    },
    {
      "cell_type": "code",
      "metadata": {
        "id": "dsSMEpPGdCjh",
        "colab_type": "code",
        "colab": {
          "base_uri": "https://localhost:8080/",
          "height": 52
        },
        "outputId": "346ace23-c9e5-4893-e10b-75743fdccff0"
      },
      "source": [
        "%%time\n",
        "with tf.Session() as sess:\n",
        "  sess.run(tf.global_variables_initializer())\n",
        "  sess.run(tf.tables_initializer())\n",
        "  x = sess.run(embeddings)"
      ],
      "execution_count": 10,
      "outputs": [
        {
          "output_type": "stream",
          "text": [
            "CPU times: user 3.29 s, sys: 1.28 s, total: 4.57 s\n",
            "Wall time: 3.64 s\n"
          ],
          "name": "stdout"
        }
      ]
    },
    {
      "cell_type": "code",
      "metadata": {
        "id": "hKxdloNdehNS",
        "colab_type": "code",
        "colab": {
          "base_uri": "https://localhost:8080/",
          "height": 469
        },
        "outputId": "5ade208b-71fd-4151-93fa-b10973092b53"
      },
      "source": [
        "x"
      ],
      "execution_count": 11,
      "outputs": [
        {
          "output_type": "execute_result",
          "data": {
            "text/plain": [
              "array([[[ 3.08154643e-01,  2.66303957e-01,  2.35612974e-01, ...,\n",
              "         -3.70857298e-01,  1.64904803e-01, -7.24595636e-02],\n",
              "        [ 5.14287472e-01, -1.35323688e-01,  1.10904001e-01, ...,\n",
              "          4.04681042e-02, -4.78973463e-02,  7.36596167e-01],\n",
              "        [-2.58805212e-02, -7.28364289e-02, -7.93557763e-02, ...,\n",
              "         -2.90724277e-01,  7.24214017e-01,  4.38635111e-01],\n",
              "        [-3.47980440e-01, -2.91023254e-02, -8.19930494e-01, ...,\n",
              "         -9.20484364e-01,  2.18880773e-02,  1.21060424e-01],\n",
              "        [-2.18274519e-01, -1.30765945e-01, -2.52096176e-01, ...,\n",
              "         -2.96935618e-01, -1.58280939e-01, -4.90070321e-02],\n",
              "        [ 1.00725651e-01, -2.95347534e-02, -2.44943112e-01, ...,\n",
              "         -3.72350454e-01, -1.48757920e-01,  2.15922445e-01]],\n",
              "\n",
              "       [[ 5.45785427e-02, -2.64275312e-01,  4.68437880e-01, ...,\n",
              "         -1.40770912e-01, -2.65682429e-01,  4.52119648e-01],\n",
              "        [ 8.09428245e-02,  1.15839042e-01, -1.56706005e-01, ...,\n",
              "         -2.68961459e-01,  3.38719189e-01,  1.15770865e-02],\n",
              "        [-7.89646357e-02,  9.49275017e-01, -6.18048966e-01, ...,\n",
              "         -6.30558848e-01,  3.09429973e-01,  1.53787494e-01],\n",
              "        [-6.78088143e-02,  9.71874744e-02, -3.62254620e-01, ...,\n",
              "          7.75002688e-02, -6.16607741e-02,  6.00473695e-02],\n",
              "        [-2.62041809e-04, -1.26097605e-01, -5.33947349e-01, ...,\n",
              "          4.29218113e-01,  1.28046036e-01,  5.31919360e-01],\n",
              "        [-2.84084082e-02, -4.35321629e-02,  4.13016267e-02, ...,\n",
              "          2.58316807e-02, -1.42983627e-02, -1.65042244e-02]]],\n",
              "      dtype=float32)"
            ]
          },
          "metadata": {
            "tags": []
          },
          "execution_count": 11
        }
      ]
    }
  ]
}